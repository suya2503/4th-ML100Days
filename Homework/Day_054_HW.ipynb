{
  "nbformat": 4,
  "nbformat_minor": 0,
  "metadata": {
    "kernelspec": {
      "display_name": "Python 3",
      "language": "python",
      "name": "python3"
    },
    "language_info": {
      "codemirror_mode": {
        "name": "ipython",
        "version": 3
      },
      "file_extension": ".py",
      "mimetype": "text/x-python",
      "name": "python",
      "nbconvert_exporter": "python",
      "pygments_lexer": "ipython3",
      "version": "3.7.0"
    },
    "colab": {
      "name": "Day_054_HW.ipynb",
      "provenance": []
    }
  },
  "cells": [
    {
      "cell_type": "markdown",
      "metadata": {
        "id": "WwTvXES9I0MS"
      },
      "source": [
        "# 作業\n",
        "* 試著想想看, 非監督學習是否有可能使用評價函數 (Metric) 來鑑別好壞呢?  \n",
        "(Hint : 可以分為 \"有目標值\" 與 \"無目標值\" 兩個方向思考)"
      ]
    },
    {
      "cell_type": "markdown",
      "metadata": {
        "id": "tlsZ7fP7I0__"
      },
      "source": [
        "非監督式學習本為一種無目標值的學習演算法，而評價函數本身需要有目標值與預測結果做計算，故若以非監督式學習本身的特性來說，不能使用評價函數來鑑別好壞"
      ]
    },
    {
      "cell_type": "code",
      "metadata": {
        "id": "RGRBxuLtI0MS"
      },
      "source": [
        ""
      ],
      "execution_count": null,
      "outputs": []
    }
  ]
}