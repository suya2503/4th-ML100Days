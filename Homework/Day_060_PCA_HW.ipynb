{
  "nbformat": 4,
  "nbformat_minor": 0,
  "metadata": {
    "kernelspec": {
      "display_name": "Python 3",
      "language": "python",
      "name": "python3"
    },
    "language_info": {
      "codemirror_mode": {
        "name": "ipython",
        "version": 3
      },
      "file_extension": ".py",
      "mimetype": "text/x-python",
      "name": "python",
      "nbconvert_exporter": "python",
      "pygments_lexer": "ipython3",
      "version": "3.6.1"
    },
    "colab": {
      "name": "Day_060_PCA_HW.ipynb",
      "provenance": []
    }
  },
  "cells": [
    {
      "cell_type": "markdown",
      "metadata": {
        "id": "xkwQbEHQTBwY"
      },
      "source": [
        "# 使用手寫辨識資料集, 觀察 PCA 算法"
      ]
    },
    {
      "cell_type": "markdown",
      "metadata": {
        "id": "megP_yO4TBwY"
      },
      "source": [
        "# [作業目標]\n",
        "- 試著模仿範例寫法, 以變更參數後的 PCA + 邏輯斯迴歸判斷手寫辨識資料集, 觀察不同 component 下正確率的變化"
      ]
    },
    {
      "cell_type": "markdown",
      "metadata": {
        "id": "_saQu9ynTBwY"
      },
      "source": [
        "# [作業重點]\n",
        "- 以手寫辨識資料集, 觀察變更參數後的 PCA 算法, 在取不同 component 時, PCA 解釋度與分類正確率如何變化 (In[5], Out[5])"
      ]
    },
    {
      "cell_type": "code",
      "metadata": {
        "collapsed": true,
        "id": "5VktQTyBTBwZ"
      },
      "source": [
        "# 載入套件\n",
        "import numpy as np\n",
        "import matplotlib.pyplot as plt\n",
        "import pandas as pd\n",
        "\n",
        "from sklearn import datasets\n",
        "from sklearn.decomposition import PCA\n",
        "from sklearn.linear_model import SGDClassifier\n",
        "from sklearn.pipeline import Pipeline\n",
        "from sklearn.model_selection import GridSearchCV\n",
        "import warnings\n",
        "warnings.filterwarnings(\"ignore\")"
      ],
      "execution_count": 1,
      "outputs": []
    },
    {
      "cell_type": "code",
      "metadata": {
        "collapsed": true,
        "id": "UkTpp3nnTBwZ"
      },
      "source": [
        "# 定義 PCA 與隨後的羅吉斯迴歸函數\n",
        "# penalty 改為 L1, max_iter 改為 100\n",
        "logistic = SGDClassifier(loss='log', penalty='l1', max_iter=100, tol=1e-5, random_state=0)\n",
        "pca = PCA()\n",
        "pipe = Pipeline(steps=[('pca', pca), ('logistic', logistic)])\n",
        "\n",
        "# 載入手寫數字辨識集\n",
        "digits = datasets.load_digits()\n",
        "X_digits = digits.data\n",
        "y_digits = digits.target"
      ],
      "execution_count": 2,
      "outputs": []
    },
    {
      "cell_type": "markdown",
      "metadata": {
        "id": "wBomIfgHTBwa"
      },
      "source": [
        "# 作業\n",
        "* 將參數 penalty 改為 L1, max_iter 改為 100, 觀察 PCA 與羅吉斯迴歸做手寫辨識的效果"
      ]
    },
    {
      "cell_type": "code",
      "metadata": {
        "collapsed": true,
        "colab": {
          "base_uri": "https://localhost:8080/"
        },
        "id": "-8Q0ek7_TBwa",
        "outputId": "a56bbf0b-2f2e-4628-c749-37b322a78293"
      },
      "source": [
        "# 先執行 GridSearchCV 跑出最佳參數\n",
        "pipe_params = {'pca__n_components':[4, 10, 20, 30, 40, 50, 64],\n",
        "               'logistic__alpha':np.logspace(-4, 4, 5)}\n",
        "\n",
        "search = GridSearchCV(pipe, pipe_params, iid=False, cv=5, return_train_score=False)\n",
        "search.fit(X_digits, y_digits)\n",
        "print('Best_param_score:%0.3f'%search.best_score_)\n",
        "print('Best_param:', search.best_params_)"
      ],
      "execution_count": 10,
      "outputs": [
        {
          "output_type": "stream",
          "text": [
            "Best_param_score:0.912\n",
            "Best_param: {'logistic__alpha': 0.01, 'pca__n_components': 20}\n"
          ],
          "name": "stdout"
        }
      ]
    },
    {
      "cell_type": "code",
      "metadata": {
        "collapsed": true,
        "colab": {
          "base_uri": "https://localhost:8080/",
          "height": 441
        },
        "id": "u_HNvksxTBwa",
        "outputId": "cf96d2e3-7e3a-4bab-c404-906972dfbd8b"
      },
      "source": [
        "# 繪製不同 components 的 PCA 解釋度\n",
        "\n",
        "pca.fit(X_digits)\n",
        "fig, (ax0, ax1) = plt.subplots(nrows=2, sharex=True, figsize=(6, 6))\n",
        "ax0.plot(pca.explained_variance_ratio_)\n",
        "ax0.set_ylabel('PCA explained variance')\n",
        "\n",
        "ax0.axvline(search.best_estimator_.named_steps['pca'].n_components, linestyle=':', label='n_components chosen')\n",
        "ax0.legend(prop=dict(size=12))\n",
        "\n",
        "# 繪製不同採樣點的分類正確率\n",
        "results = pd.DataFrame(search.cv_results_)\n",
        "components_col = 'param_pca__n_components'\n",
        "best_clfs = results.groupby(components_col).apply(lambda g: g.nlargest(1, 'mean_test_score'))\n",
        "\n",
        "best_clfs.plot(x=components_col, y='mean_test_score', yerr='std_test_score', legend=False, ax=ax1)\n",
        "ax1.set_ylabel('Classification accuracy (val)')\n",
        "ax1.set_xlabel('n_components')\n",
        "plt.tight_layout()\n",
        "plt.show()"
      ],
      "execution_count": 15,
      "outputs": [
        {
          "output_type": "display_data",
          "data": {
            "image/png": "[encoded data removed]",
            "text/plain": [
              "<Figure size 432x432 with 2 Axes>"
            ]
          },
          "metadata": {
            "tags": [],
            "needs_background": "light"
          }
        }
      ]
    }
  ]
}