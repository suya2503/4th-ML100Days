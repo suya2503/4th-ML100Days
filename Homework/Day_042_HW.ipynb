{
 "cells": [
  {
   "cell_type": "markdown",
   "metadata": {},
   "source": [
    "## [作業重點]\n",
    "目前你應該已經要很清楚資料集中，資料的型態是什麼樣子囉！包含特徵 (features) 與標籤 (labels)。因此要記得未來不管什麼專案，必須要把資料清理成相同的格式，才能送進模型訓練。\n",
    "今天的作業開始踏入決策樹這個非常重要的模型，請務必確保你理解模型中每個超參數的意思，並試著調整看看，對最終預測結果的影響為何"
   ]
  },
  {
   "cell_type": "markdown",
   "metadata": {},
   "source": [
    "## 作業\n",
    "\n",
    "1. 試著調整 DecisionTreeClassifier(...) 中的參數，並觀察是否會改變結果？\n",
    "2. 改用其他資料集 (boston, wine)，並與回歸模型的結果進行比較"
   ]
  },
  {
   "cell_type": "code",
   "execution_count": 2,
   "metadata": {},
   "outputs": [],
   "source": [
    "# 匯入套件\n",
    "import pandas as pd\n",
    "import numpy as np\n",
    "import matplotlib.pyplot as plt\n",
    "from sklearn.model_selection import train_test_split"
   ]
  },
  {
   "cell_type": "code",
   "execution_count": 12,
   "metadata": {},
   "outputs": [
    {
     "data": {
      "text/plain": [
       "(506, 13)"
      ]
     },
     "execution_count": 12,
     "metadata": {},
     "output_type": "execute_result"
    }
   ],
   "source": [
    "# 匯入資料\n",
    "\n",
    "from sklearn.datasets import load_boston\n",
    "boston = load_boston()\n",
    "X = boston.data\n",
    "y = boston.target\n",
    "features = boston.feature_names\n",
    "X.shape"
   ]
  },
  {
   "cell_type": "code",
   "execution_count": 13,
   "metadata": {},
   "outputs": [],
   "source": [
    "X = pd.DataFrame(X, columns=features)"
   ]
  },
  {
   "cell_type": "code",
   "execution_count": 14,
   "metadata": {},
   "outputs": [],
   "source": [
    "# 切分資料\n",
    "\n",
    "X_train, X_test, y_train, y_test = train_test_split(X, y, test_size=0.25, random_state=1)\n"
   ]
  },
  {
   "cell_type": "code",
   "execution_count": 15,
   "metadata": {},
   "outputs": [
    {
     "data": {
      "text/html": [
       "<div>\n",
       "<style scoped>\n",
       "    .dataframe tbody tr th:only-of-type {\n",
       "        vertical-align: middle;\n",
       "    }\n",
       "\n",
       "    .dataframe tbody tr th {\n",
       "        vertical-align: top;\n",
       "    }\n",
       "\n",
       "    .dataframe thead th {\n",
       "        text-align: right;\n",
       "    }\n",
       "</style>\n",
       "<table border=\"1\" class=\"dataframe\">\n",
       "  <thead>\n",
       "    <tr style=\"text-align: right;\">\n",
       "      <th></th>\n",
       "      <th>CRIM</th>\n",
       "      <th>ZN</th>\n",
       "      <th>INDUS</th>\n",
       "      <th>CHAS</th>\n",
       "      <th>NOX</th>\n",
       "      <th>RM</th>\n",
       "      <th>AGE</th>\n",
       "      <th>DIS</th>\n",
       "      <th>RAD</th>\n",
       "      <th>TAX</th>\n",
       "      <th>PTRATIO</th>\n",
       "      <th>B</th>\n",
       "      <th>LSTAT</th>\n",
       "    </tr>\n",
       "  </thead>\n",
       "  <tbody>\n",
       "    <tr>\n",
       "      <th>502</th>\n",
       "      <td>0.04527</td>\n",
       "      <td>0.0</td>\n",
       "      <td>11.93</td>\n",
       "      <td>0.0</td>\n",
       "      <td>0.573</td>\n",
       "      <td>6.120</td>\n",
       "      <td>76.7</td>\n",
       "      <td>2.2875</td>\n",
       "      <td>1.0</td>\n",
       "      <td>273.0</td>\n",
       "      <td>21.0</td>\n",
       "      <td>396.90</td>\n",
       "      <td>9.08</td>\n",
       "    </tr>\n",
       "    <tr>\n",
       "      <th>172</th>\n",
       "      <td>0.13914</td>\n",
       "      <td>0.0</td>\n",
       "      <td>4.05</td>\n",
       "      <td>0.0</td>\n",
       "      <td>0.510</td>\n",
       "      <td>5.572</td>\n",
       "      <td>88.5</td>\n",
       "      <td>2.5961</td>\n",
       "      <td>5.0</td>\n",
       "      <td>296.0</td>\n",
       "      <td>16.6</td>\n",
       "      <td>396.90</td>\n",
       "      <td>14.69</td>\n",
       "    </tr>\n",
       "    <tr>\n",
       "      <th>80</th>\n",
       "      <td>0.04113</td>\n",
       "      <td>25.0</td>\n",
       "      <td>4.86</td>\n",
       "      <td>0.0</td>\n",
       "      <td>0.426</td>\n",
       "      <td>6.727</td>\n",
       "      <td>33.5</td>\n",
       "      <td>5.4007</td>\n",
       "      <td>4.0</td>\n",
       "      <td>281.0</td>\n",
       "      <td>19.0</td>\n",
       "      <td>396.90</td>\n",
       "      <td>5.29</td>\n",
       "    </tr>\n",
       "    <tr>\n",
       "      <th>46</th>\n",
       "      <td>0.18836</td>\n",
       "      <td>0.0</td>\n",
       "      <td>6.91</td>\n",
       "      <td>0.0</td>\n",
       "      <td>0.448</td>\n",
       "      <td>5.786</td>\n",
       "      <td>33.3</td>\n",
       "      <td>5.1004</td>\n",
       "      <td>3.0</td>\n",
       "      <td>233.0</td>\n",
       "      <td>17.9</td>\n",
       "      <td>396.90</td>\n",
       "      <td>14.15</td>\n",
       "    </tr>\n",
       "    <tr>\n",
       "      <th>318</th>\n",
       "      <td>0.40202</td>\n",
       "      <td>0.0</td>\n",
       "      <td>9.90</td>\n",
       "      <td>0.0</td>\n",
       "      <td>0.544</td>\n",
       "      <td>6.382</td>\n",
       "      <td>67.2</td>\n",
       "      <td>3.5325</td>\n",
       "      <td>4.0</td>\n",
       "      <td>304.0</td>\n",
       "      <td>18.4</td>\n",
       "      <td>395.21</td>\n",
       "      <td>10.36</td>\n",
       "    </tr>\n",
       "  </tbody>\n",
       "</table>\n",
       "</div>"
      ],
      "text/plain": [
       "        CRIM    ZN  INDUS  CHAS    NOX     RM   AGE     DIS  RAD    TAX  \\\n",
       "502  0.04527   0.0  11.93   0.0  0.573  6.120  76.7  2.2875  1.0  273.0   \n",
       "172  0.13914   0.0   4.05   0.0  0.510  5.572  88.5  2.5961  5.0  296.0   \n",
       "80   0.04113  25.0   4.86   0.0  0.426  6.727  33.5  5.4007  4.0  281.0   \n",
       "46   0.18836   0.0   6.91   0.0  0.448  5.786  33.3  5.1004  3.0  233.0   \n",
       "318  0.40202   0.0   9.90   0.0  0.544  6.382  67.2  3.5325  4.0  304.0   \n",
       "\n",
       "     PTRATIO       B  LSTAT  \n",
       "502     21.0  396.90   9.08  \n",
       "172     16.6  396.90  14.69  \n",
       "80      19.0  396.90   5.29  \n",
       "46      17.9  396.90  14.15  \n",
       "318     18.4  395.21  10.36  "
      ]
     },
     "execution_count": 15,
     "metadata": {},
     "output_type": "execute_result"
    }
   ],
   "source": [
    "X_train.head()"
   ]
  },
  {
   "cell_type": "code",
   "execution_count": 16,
   "metadata": {},
   "outputs": [
    {
     "name": "stdout",
     "output_type": "stream",
     "text": [
      "<class 'pandas.core.frame.DataFrame'>\n",
      "Int64Index: 379 entries, 502 to 37\n",
      "Data columns (total 13 columns):\n",
      "CRIM       379 non-null float64\n",
      "ZN         379 non-null float64\n",
      "INDUS      379 non-null float64\n",
      "CHAS       379 non-null float64\n",
      "NOX        379 non-null float64\n",
      "RM         379 non-null float64\n",
      "AGE        379 non-null float64\n",
      "DIS        379 non-null float64\n",
      "RAD        379 non-null float64\n",
      "TAX        379 non-null float64\n",
      "PTRATIO    379 non-null float64\n",
      "B          379 non-null float64\n",
      "LSTAT      379 non-null float64\n",
      "dtypes: float64(13)\n",
      "memory usage: 41.5 KB\n"
     ]
    }
   ],
   "source": [
    "X_train.info()"
   ]
  },
  {
   "cell_type": "code",
   "execution_count": 17,
   "metadata": {},
   "outputs": [
    {
     "data": {
      "text/html": [
       "<div>\n",
       "<style scoped>\n",
       "    .dataframe tbody tr th:only-of-type {\n",
       "        vertical-align: middle;\n",
       "    }\n",
       "\n",
       "    .dataframe tbody tr th {\n",
       "        vertical-align: top;\n",
       "    }\n",
       "\n",
       "    .dataframe thead th {\n",
       "        text-align: right;\n",
       "    }\n",
       "</style>\n",
       "<table border=\"1\" class=\"dataframe\">\n",
       "  <thead>\n",
       "    <tr style=\"text-align: right;\">\n",
       "      <th></th>\n",
       "      <th>count</th>\n",
       "      <th>mean</th>\n",
       "      <th>std</th>\n",
       "      <th>min</th>\n",
       "      <th>25%</th>\n",
       "      <th>50%</th>\n",
       "      <th>75%</th>\n",
       "      <th>max</th>\n",
       "    </tr>\n",
       "  </thead>\n",
       "  <tbody>\n",
       "    <tr>\n",
       "      <th>CRIM</th>\n",
       "      <td>379.0</td>\n",
       "      <td>3.805183</td>\n",
       "      <td>9.375846</td>\n",
       "      <td>0.00632</td>\n",
       "      <td>0.083475</td>\n",
       "      <td>0.24522</td>\n",
       "      <td>3.68339</td>\n",
       "      <td>88.9762</td>\n",
       "    </tr>\n",
       "    <tr>\n",
       "      <th>ZN</th>\n",
       "      <td>379.0</td>\n",
       "      <td>11.521108</td>\n",
       "      <td>23.492644</td>\n",
       "      <td>0.00000</td>\n",
       "      <td>0.000000</td>\n",
       "      <td>0.00000</td>\n",
       "      <td>17.75000</td>\n",
       "      <td>100.0000</td>\n",
       "    </tr>\n",
       "    <tr>\n",
       "      <th>INDUS</th>\n",
       "      <td>379.0</td>\n",
       "      <td>11.220053</td>\n",
       "      <td>6.875362</td>\n",
       "      <td>0.46000</td>\n",
       "      <td>5.255000</td>\n",
       "      <td>9.69000</td>\n",
       "      <td>18.10000</td>\n",
       "      <td>27.7400</td>\n",
       "    </tr>\n",
       "    <tr>\n",
       "      <th>CHAS</th>\n",
       "      <td>379.0</td>\n",
       "      <td>0.081794</td>\n",
       "      <td>0.274413</td>\n",
       "      <td>0.00000</td>\n",
       "      <td>0.000000</td>\n",
       "      <td>0.00000</td>\n",
       "      <td>0.00000</td>\n",
       "      <td>1.0000</td>\n",
       "    </tr>\n",
       "    <tr>\n",
       "      <th>NOX</th>\n",
       "      <td>379.0</td>\n",
       "      <td>0.554073</td>\n",
       "      <td>0.117825</td>\n",
       "      <td>0.38500</td>\n",
       "      <td>0.447500</td>\n",
       "      <td>0.53800</td>\n",
       "      <td>0.62400</td>\n",
       "      <td>0.8710</td>\n",
       "    </tr>\n",
       "    <tr>\n",
       "      <th>RM</th>\n",
       "      <td>379.0</td>\n",
       "      <td>6.255726</td>\n",
       "      <td>0.687415</td>\n",
       "      <td>3.56100</td>\n",
       "      <td>5.875000</td>\n",
       "      <td>6.17200</td>\n",
       "      <td>6.61100</td>\n",
       "      <td>8.7800</td>\n",
       "    </tr>\n",
       "    <tr>\n",
       "      <th>AGE</th>\n",
       "      <td>379.0</td>\n",
       "      <td>68.751451</td>\n",
       "      <td>28.276504</td>\n",
       "      <td>6.00000</td>\n",
       "      <td>45.050000</td>\n",
       "      <td>79.20000</td>\n",
       "      <td>94.05000</td>\n",
       "      <td>100.0000</td>\n",
       "    </tr>\n",
       "    <tr>\n",
       "      <th>DIS</th>\n",
       "      <td>379.0</td>\n",
       "      <td>3.824433</td>\n",
       "      <td>2.138449</td>\n",
       "      <td>1.12960</td>\n",
       "      <td>2.094450</td>\n",
       "      <td>3.31750</td>\n",
       "      <td>5.10855</td>\n",
       "      <td>12.1265</td>\n",
       "    </tr>\n",
       "    <tr>\n",
       "      <th>RAD</th>\n",
       "      <td>379.0</td>\n",
       "      <td>9.525066</td>\n",
       "      <td>8.734550</td>\n",
       "      <td>1.00000</td>\n",
       "      <td>4.000000</td>\n",
       "      <td>5.00000</td>\n",
       "      <td>24.00000</td>\n",
       "      <td>24.0000</td>\n",
       "    </tr>\n",
       "    <tr>\n",
       "      <th>TAX</th>\n",
       "      <td>379.0</td>\n",
       "      <td>405.182058</td>\n",
       "      <td>169.483657</td>\n",
       "      <td>187.00000</td>\n",
       "      <td>277.000000</td>\n",
       "      <td>329.00000</td>\n",
       "      <td>666.00000</td>\n",
       "      <td>711.0000</td>\n",
       "    </tr>\n",
       "    <tr>\n",
       "      <th>PTRATIO</th>\n",
       "      <td>379.0</td>\n",
       "      <td>18.478100</td>\n",
       "      <td>2.141433</td>\n",
       "      <td>12.60000</td>\n",
       "      <td>17.400000</td>\n",
       "      <td>19.10000</td>\n",
       "      <td>20.20000</td>\n",
       "      <td>22.0000</td>\n",
       "    </tr>\n",
       "    <tr>\n",
       "      <th>B</th>\n",
       "      <td>379.0</td>\n",
       "      <td>358.304802</td>\n",
       "      <td>89.601791</td>\n",
       "      <td>0.32000</td>\n",
       "      <td>376.125000</td>\n",
       "      <td>392.04000</td>\n",
       "      <td>396.22000</td>\n",
       "      <td>396.9000</td>\n",
       "    </tr>\n",
       "    <tr>\n",
       "      <th>LSTAT</th>\n",
       "      <td>379.0</td>\n",
       "      <td>12.936174</td>\n",
       "      <td>7.243381</td>\n",
       "      <td>1.73000</td>\n",
       "      <td>7.165000</td>\n",
       "      <td>11.97000</td>\n",
       "      <td>17.13500</td>\n",
       "      <td>37.9700</td>\n",
       "    </tr>\n",
       "  </tbody>\n",
       "</table>\n",
       "</div>"
      ],
      "text/plain": [
       "         count        mean         std        min         25%        50%  \\\n",
       "CRIM     379.0    3.805183    9.375846    0.00632    0.083475    0.24522   \n",
       "ZN       379.0   11.521108   23.492644    0.00000    0.000000    0.00000   \n",
       "INDUS    379.0   11.220053    6.875362    0.46000    5.255000    9.69000   \n",
       "CHAS     379.0    0.081794    0.274413    0.00000    0.000000    0.00000   \n",
       "NOX      379.0    0.554073    0.117825    0.38500    0.447500    0.53800   \n",
       "RM       379.0    6.255726    0.687415    3.56100    5.875000    6.17200   \n",
       "AGE      379.0   68.751451   28.276504    6.00000   45.050000   79.20000   \n",
       "DIS      379.0    3.824433    2.138449    1.12960    2.094450    3.31750   \n",
       "RAD      379.0    9.525066    8.734550    1.00000    4.000000    5.00000   \n",
       "TAX      379.0  405.182058  169.483657  187.00000  277.000000  329.00000   \n",
       "PTRATIO  379.0   18.478100    2.141433   12.60000   17.400000   19.10000   \n",
       "B        379.0  358.304802   89.601791    0.32000  376.125000  392.04000   \n",
       "LSTAT    379.0   12.936174    7.243381    1.73000    7.165000   11.97000   \n",
       "\n",
       "               75%       max  \n",
       "CRIM       3.68339   88.9762  \n",
       "ZN        17.75000  100.0000  \n",
       "INDUS     18.10000   27.7400  \n",
       "CHAS       0.00000    1.0000  \n",
       "NOX        0.62400    0.8710  \n",
       "RM         6.61100    8.7800  \n",
       "AGE       94.05000  100.0000  \n",
       "DIS        5.10855   12.1265  \n",
       "RAD       24.00000   24.0000  \n",
       "TAX      666.00000  711.0000  \n",
       "PTRATIO   20.20000   22.0000  \n",
       "B        396.22000  396.9000  \n",
       "LSTAT     17.13500   37.9700  "
      ]
     },
     "execution_count": 17,
     "metadata": {},
     "output_type": "execute_result"
    }
   ],
   "source": [
    "X_train.describe().T"
   ]
  },
  {
   "cell_type": "code",
   "execution_count": 18,
   "metadata": {},
   "outputs": [],
   "source": [
    "from sklearn.tree import DecisionTreeRegressor\n",
    "from sklearn.model_selection import GridSearchCV"
   ]
  },
  {
   "cell_type": "code",
   "execution_count": 24,
   "metadata": {},
   "outputs": [],
   "source": [
    "def get_the_best_model_and_performance(model, params, X, y):\n",
    "    grid = GridSearchCV(model, params, error_score=0.)\n",
    "    grid.fit(X, y)\n",
    "    print('Best Performance:{}'.format(grid.best_score_))\n",
    "    print('The parameters of best performance:{}'.format(grid.best_params_))\n",
    "    print('Average time to fit(s):{}'.format(round(grid.cv_results_['mean_fit_time'].mean(), 3)))\n",
    "    print('Average time to predict(s):{}'.format(round(grid.cv_results_['mean_score_time'].mean(), 3)))\n",
    "    "
   ]
  },
  {
   "cell_type": "code",
   "execution_count": 28,
   "metadata": {},
   "outputs": [],
   "source": [
    "clf = DecisionTreeRegressor()\n",
    "params = {'criterion':['mse', 'friedman_mse', 'mae'],\n",
    "         'max_depth':[None, 1, 3, 5, 7, 9, 11],\n",
    "         'min_samples_leaf':[3, 5, 7, 9, 11],\n",
    "         'splitter':['best', 'random']}"
   ]
  },
  {
   "cell_type": "code",
   "execution_count": 29,
   "metadata": {},
   "outputs": [
    {
     "name": "stderr",
     "output_type": "stream",
     "text": [
      "d:\\code\\python\\claraneko\\venv\\lib\\site-packages\\sklearn\\model_selection\\_split.py:1978: FutureWarning: The default value of cv will change from 3 to 5 in version 0.22. Specify it explicitly to silence this warning.\n",
      "  warnings.warn(CV_WARNING, FutureWarning)\n"
     ]
    },
    {
     "name": "stdout",
     "output_type": "stream",
     "text": [
      "Best Performance:0.7320795174862316\n",
      "The parameters of best performance:{'criterion': 'mse', 'max_depth': None, 'min_samples_leaf': 11, 'splitter': 'best'}\n",
      "Average time to fit(s):0.002\n",
      "Average time to predict(s):0.001\n"
     ]
    }
   ],
   "source": [
    "get_the_best_model_and_performance(clf, params, X_train, y_train)"
   ]
  },
  {
   "cell_type": "markdown",
   "metadata": {},
   "source": [
    "## 結果\n",
    "在利用網格搜尋的方式來找到表現最佳的超參數為\n",
    "'criterion': 'mse', 'max_depth': None, 'min_samples_leaf': 11\n",
    "\n",
    "經過validation後，其R^2 = 0.732"
   ]
  },
  {
   "cell_type": "markdown",
   "metadata": {},
   "source": [
    "## 超參數的理解\n",
    "\n",
    "1. criterion:評估群內資料的相似程度之metric\n",
    "    * 在分類任務中(DecisionTreeClassifier):\n",
    "    * 在回歸任務中(DecisionTreeRegressor):\n",
    "2. splitter:控制決策樹的隨機性\n",
    "3. 剪枝方式\n",
    "    * max_depth:限制樹的最大長成深度\n",
    "    * min_samples_leaf:一個節點在分枝後每個子節點都必須包含至少min_samples_leaf個訓練樣本(搭配max_depth一起使用)\n",
    "    * min_samples_split:一個中間節點必須包含至少min_samples_split個訓練樣本，這個節點在允許被分枝，否則分枝不會發生"
   ]
  },
  {
   "cell_type": "markdown",
   "metadata": {},
   "source": [
    "# 調整其他超參數(分類任務)"
   ]
  },
  {
   "cell_type": "code",
   "execution_count": 31,
   "metadata": {},
   "outputs": [],
   "source": [
    "from sklearn.tree import DecisionTreeClassifier\n",
    "from sklearn.datasets import load_iris\n",
    "# 讀取鳶尾花資料集\n",
    "iris = load_iris()\n",
    "\n",
    "# 切分訓練集/測試集\n",
    "x_train, x_test, y_train, y_test = train_test_split(iris.data, iris.target, test_size=0.25, random_state=4)\n",
    "\n",
    "# 建立模型\n",
    "clf = DecisionTreeClassifier()\n",
    "\n",
    "# 參數\n",
    "params = {'criterion':['gini', 'entropy'],\n",
    "         'max_depth':[None, 1, 3, 5, 7, 9, 11],\n",
    "         'min_samples_leaf':[3, 5, 7, 9, 11],\n",
    "         'splitter':['best', 'random']}"
   ]
  },
  {
   "cell_type": "code",
   "execution_count": 32,
   "metadata": {},
   "outputs": [
    {
     "name": "stderr",
     "output_type": "stream",
     "text": [
      "d:\\code\\python\\claraneko\\venv\\lib\\site-packages\\sklearn\\model_selection\\_split.py:1978: FutureWarning: The default value of cv will change from 3 to 5 in version 0.22. Specify it explicitly to silence this warning.\n",
      "  warnings.warn(CV_WARNING, FutureWarning)\n"
     ]
    },
    {
     "name": "stdout",
     "output_type": "stream",
     "text": [
      "Best Performance:0.9821428571428571\n",
      "The parameters of best performance:{'criterion': 'gini', 'max_depth': None, 'min_samples_leaf': 3, 'splitter': 'best'}\n",
      "Average time to fit(s):0.0\n",
      "Average time to predict(s):0.0\n"
     ]
    }
   ],
   "source": [
    "get_the_best_model_and_performance(clf, params, x_train, y_train)"
   ]
  },
  {
   "cell_type": "markdown",
   "metadata": {},
   "source": [
    "利用網格搜尋後的最佳超參數為\n",
    "\n"
   ]
  }
 ],
 "metadata": {
  "kernelspec": {
   "display_name": "Python 3",
   "language": "python",
   "name": "python3"
  },
  "language_info": {
   "codemirror_mode": {
    "name": "ipython",
    "version": 3
   },
   "file_extension": ".py",
   "mimetype": "text/x-python",
   "name": "python",
   "nbconvert_exporter": "python",
   "pygments_lexer": "ipython3",
   "version": "3.7.5"
  }
 },
 "nbformat": 4,
 "nbformat_minor": 4
}
