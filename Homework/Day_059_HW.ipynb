{
  "nbformat": 4,
  "nbformat_minor": 0,
  "metadata": {
    "kernelspec": {
      "display_name": "Python 3",
      "language": "python",
      "name": "python3"
    },
    "language_info": {
      "codemirror_mode": {
        "name": "ipython",
        "version": 3
      },
      "file_extension": ".py",
      "mimetype": "text/x-python",
      "name": "python",
      "nbconvert_exporter": "python",
      "pygments_lexer": "ipython3",
      "version": "3.7.0"
    },
    "colab": {
      "name": "Day_059_HW.ipynb",
      "provenance": []
    }
  },
  "cells": [
    {
      "cell_type": "markdown",
      "metadata": {
        "id": "8KF8OekM7feO"
      },
      "source": [
        "# 作業\n",
        "### 用 digits (3個數字即可 , dataset.load_digits(n_class=3)) 資料嘗試跑 PCA\n"
      ]
    },
    {
      "cell_type": "code",
      "metadata": {
        "id": "cHT3GkC47feO"
      },
      "source": [
        "from sklearn import datasets\n",
        "\n",
        "digits = datasets.load_digits(n_class=3)\n",
        "X = digits.data\n",
        "y = digits.target"
      ],
      "execution_count": 1,
      "outputs": []
    },
    {
      "cell_type": "markdown",
      "metadata": {
        "id": "euTwvdKJ7feO"
      },
      "source": [
        "載入 相關套件 並 執行 PCA 實驗 ..."
      ]
    },
    {
      "cell_type": "code",
      "metadata": {
        "id": "IB6njOyG7feO"
      },
      "source": [
        "import numpy as np\n",
        "import matplotlib.pyplot as plt\n",
        "from sklearn.decomposition import PCA"
      ],
      "execution_count": 2,
      "outputs": []
    },
    {
      "cell_type": "code",
      "metadata": {
        "id": "YZoVLwY38voX"
      },
      "source": [
        "pca = PCA(n_components=0.85, svd_solver='full')\n",
        "pca.fit(X)\n",
        "X_new = pca.transform(X)"
      ],
      "execution_count": 28,
      "outputs": []
    },
    {
      "cell_type": "code",
      "metadata": {
        "colab": {
          "base_uri": "https://localhost:8080/"
        },
        "id": "bmql_PjdKYCG",
        "outputId": "eb66e0e7-b24a-4992-a79f-77fa500c1e44"
      },
      "source": [
        "pca.explained_variance_ratio_"
      ],
      "execution_count": 29,
      "outputs": [
        {
          "output_type": "execute_result",
          "data": {
            "text/plain": [
              "array([0.31488779, 0.18556129, 0.10654207, 0.06126881, 0.04193542,\n",
              "       0.03636976, 0.03187165, 0.02723644, 0.02478378, 0.01924403,\n",
              "       0.01588696])"
            ]
          },
          "metadata": {
            "tags": []
          },
          "execution_count": 29
        }
      ]
    },
    {
      "cell_type": "code",
      "metadata": {
        "colab": {
          "base_uri": "https://localhost:8080/"
        },
        "id": "uNBblWqaKbOf",
        "outputId": "bc3e1fee-95d4-434b-b546-84e9713c93ba"
      },
      "source": [
        "pca.explained_variance_"
      ],
      "execution_count": 30,
      "outputs": [
        {
          "output_type": "execute_result",
          "data": {
            "text/plain": [
              "array([365.43179314, 215.34653886, 123.64359534,  71.103332  ,\n",
              "        48.66665265,  42.20763183,  36.9875003 ,  31.60828374,\n",
              "        28.76193678,  22.33296726,  18.43704065])"
            ]
          },
          "metadata": {
            "tags": []
          },
          "execution_count": 30
        }
      ]
    },
    {
      "cell_type": "code",
      "metadata": {
        "colab": {
          "base_uri": "https://localhost:8080/"
        },
        "id": "Anm1obtKKmrs",
        "outputId": "0e5f7531-a61f-4bb5-9b8b-bcc260151b5a"
      },
      "source": [
        "pca.n_features_"
      ],
      "execution_count": 31,
      "outputs": [
        {
          "output_type": "execute_result",
          "data": {
            "text/plain": [
              "64"
            ]
          },
          "metadata": {
            "tags": []
          },
          "execution_count": 31
        }
      ]
    },
    {
      "cell_type": "code",
      "metadata": {
        "colab": {
          "base_uri": "https://localhost:8080/"
        },
        "id": "WMuJiiolMaFc",
        "outputId": "cc8607a4-47c9-4b1c-8c25-d5965b00444e"
      },
      "source": [
        "pca.n_components_"
      ],
      "execution_count": 32,
      "outputs": [
        {
          "output_type": "execute_result",
          "data": {
            "text/plain": [
              "11"
            ]
          },
          "metadata": {
            "tags": []
          },
          "execution_count": 32
        }
      ]
    },
    {
      "cell_type": "code",
      "metadata": {
        "colab": {
          "base_uri": "https://localhost:8080/",
          "height": 312
        },
        "id": "tE6uucXCKpfw",
        "outputId": "bfea14b4-11d3-498b-feb9-eba9b4b267bf"
      },
      "source": [
        "# plot explained_variance_ratio_\n",
        "\n",
        "plt.figure()\n",
        "plt.plot(list(range(1,pca.n_components_+1)),np.cumsum(pca.explained_variance_ratio_), color='blue', marker='o', linewidth=2)\n",
        "plt.xlabel('Princlple Components(PCs)')\n",
        "plt.ylabel('explained variance ratio of PCs')\n",
        "plt.title('explained_variance_ratio_')\n",
        "plt.show"
      ],
      "execution_count": 33,
      "outputs": [
        {
          "output_type": "execute_result",
          "data": {
            "text/plain": [
              "<function matplotlib.pyplot.show>"
            ]
          },
          "metadata": {
            "tags": []
          },
          "execution_count": 33
        },
        {
          "output_type": "display_data",
          "data": {
            "image/png": "[encoded data removed]",
            "text/plain": [
              "<Figure size 432x288 with 1 Axes>"
            ]
          },
          "metadata": {
            "tags": [],
            "needs_background": "light"
          }
        }
      ]
    },
    {
      "cell_type": "markdown",
      "metadata": {
        "id": "WZzEFVxsNw9m"
      },
      "source": [
        "大概要保留PC10才能保留85%的資料量"
      ]
    },
    {
      "cell_type": "code",
      "metadata": {
        "colab": {
          "base_uri": "https://localhost:8080/"
        },
        "id": "hIHkr3BPMz6k",
        "outputId": "081bdb67-ffd0-4500-edc9-1d4f2cc0655a"
      },
      "source": [
        "X_new.shape"
      ],
      "execution_count": 34,
      "outputs": [
        {
          "output_type": "execute_result",
          "data": {
            "text/plain": [
              "(537, 11)"
            ]
          },
          "metadata": {
            "tags": []
          },
          "execution_count": 34
        }
      ]
    }
  ]
}