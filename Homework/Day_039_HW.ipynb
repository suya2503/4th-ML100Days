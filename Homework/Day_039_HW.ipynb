{
  "nbformat": 4,
  "nbformat_minor": 0,
  "metadata": {
    "kernelspec": {
      "display_name": "Python 3",
      "language": "python",
      "name": "python3"
    },
    "language_info": {
      "codemirror_mode": {
        "name": "ipython",
        "version": 3
      },
      "file_extension": ".py",
      "mimetype": "text/x-python",
      "name": "python",
      "nbconvert_exporter": "python",
      "pygments_lexer": "ipython3",
      "version": "3.6.2"
    },
    "colab": {
      "name": "Day_039_HW.ipynb",
      "provenance": []
    }
  },
  "cells": [
    {
      "cell_type": "markdown",
      "metadata": {
        "id": "U9XjVl-SCs2f"
      },
      "source": [
        "## [作業重點]\n",
        "清楚了解 L1, L2 的意義與差異為何，並了解 LASSO 與 Ridge 之間的差異與使用情境"
      ]
    },
    {
      "cell_type": "markdown",
      "metadata": {
        "id": "alCtCWmCCs2n"
      },
      "source": [
        "## 作業"
      ]
    },
    {
      "cell_type": "markdown",
      "metadata": {
        "id": "bg94tvWICs2n"
      },
      "source": [
        "請閱讀相關文獻，並回答下列問題\n",
        "\n",
        "[脊回歸 (Ridge Regression)](https://blog.csdn.net/daunxx/article/details/51578787)\n",
        "[Linear, Ridge, Lasso Regression 本質區別](https://www.zhihu.com/question/38121173)\n",
        "\n",
        "1. LASSO 回歸可以被用來作為 Feature selection 的工具，請了解 LASSO 模型為什麼可用來作 Feature selection\n",
        "2. 當自變數 (X) 存在高度共線性時，Ridge Regression 可以處理這樣的問題嗎?\n"
      ]
    },
    {
      "cell_type": "markdown",
      "metadata": {
        "id": "KmJ3YKFQCyB1"
      },
      "source": [
        "## 第一題\r\n",
        "\r\n",
        "LASSO本身用的正則項為L1，在找尋其目標函數的倒數為0的參數位置時，剛好都會落在某些特徵參數會變為0的位置，導致其找出的模型參數會有稀疏性的特色，兒也就是這樣的特色能作為特徵選擇的功能，將一些較為不重要的特徵給選擇掉。\r\n",
        "\r\n",
        "## 第二題\r\n",
        "\r\n",
        "由於X若有共線性時，會容易讓模型的參數過高，讓模型容易對於雜訊具有高度敏感，導致過擬合的風險，所以加上正則項後，尤其是L2的正則項，會在懲罰力道提升後，使得模型參數係數值下降，讓其不會受X的微小變化而有較大的變化，達到改善模型泛化的效果。"
      ]
    },
    {
      "cell_type": "code",
      "metadata": {
        "id": "mMPZ6oGSETca"
      },
      "source": [
        ""
      ],
      "execution_count": null,
      "outputs": []
    }
  ]
}